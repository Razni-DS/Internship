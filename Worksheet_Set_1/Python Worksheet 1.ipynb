{
 "cells": [
  {
   "cell_type": "code",
   "execution_count": 1,
   "id": "69ed1d93",
   "metadata": {},
   "outputs": [
    {
     "data": {
      "text/plain": [
       "0"
      ]
     },
     "execution_count": 1,
     "metadata": {},
     "output_type": "execute_result"
    }
   ],
   "source": [
    "#1.Which of the following operators is used to calculate remainder in a division?\n",
    "\n",
    "10%2\n",
    "#ans) %"
   ]
  },
  {
   "cell_type": "code",
   "execution_count": 2,
   "id": "e2a981f3",
   "metadata": {},
   "outputs": [
    {
     "data": {
      "text/plain": [
       "0"
      ]
     },
     "execution_count": 2,
     "metadata": {},
     "output_type": "execute_result"
    }
   ],
   "source": [
    "#2.In python 2//3 is equal to?\n",
    "\n",
    "2//3\n",
    "#ans) 0"
   ]
  },
  {
   "cell_type": "code",
   "execution_count": 3,
   "id": "81391db2",
   "metadata": {},
   "outputs": [
    {
     "data": {
      "text/plain": [
       "24"
      ]
     },
     "execution_count": 3,
     "metadata": {},
     "output_type": "execute_result"
    }
   ],
   "source": [
    "#3.In python, 6<<2 is equal to?\n",
    "\n",
    "6<<2   #ans) 24"
   ]
  },
  {
   "cell_type": "code",
   "execution_count": 4,
   "id": "e00fda33",
   "metadata": {},
   "outputs": [
    {
     "data": {
      "text/plain": [
       "2"
      ]
     },
     "execution_count": 4,
     "metadata": {},
     "output_type": "execute_result"
    }
   ],
   "source": [
    "#4.In python, 6&2 will give which of the following as output?\n",
    "\n",
    "6&2  #ans) 2"
   ]
  },
  {
   "cell_type": "code",
   "execution_count": 5,
   "id": "2c6d89e4",
   "metadata": {},
   "outputs": [
    {
     "data": {
      "text/plain": [
       "6"
      ]
     },
     "execution_count": 5,
     "metadata": {},
     "output_type": "execute_result"
    }
   ],
   "source": [
    "#5.In python, 6|2 will give which of the following as output?\n",
    "\n",
    "6|2   #ans) 6"
   ]
  },
  {
   "cell_type": "code",
   "execution_count": 6,
   "id": "a60c62cf",
   "metadata": {},
   "outputs": [
    {
     "name": "stdout",
     "output_type": "stream",
     "text": [
      "x is not defined\n",
      "FINALLY WILL BE EXECUTED\n"
     ]
    }
   ],
   "source": [
    "#6.What does the finally keyword denotes in python?\n",
    "\n",
    "#ans) C) the finally block will be executed no matter if the try block raises an error or not.\n",
    "\n",
    "try:\n",
    "    print(x)\n",
    "except:\n",
    "    print(\"x is not defined\")\n",
    "finally:\n",
    "    print(\"FINALLY WILL BE EXECUTED\")"
   ]
  },
  {
   "cell_type": "code",
   "execution_count": 7,
   "id": "14262fd0",
   "metadata": {},
   "outputs": [
    {
     "ename": "Exception",
     "evalue": "Maximum value should be 989",
     "output_type": "error",
     "traceback": [
      "\u001b[0;31m---------------------------------------------------------------------------\u001b[0m",
      "\u001b[0;31mException\u001b[0m                                 Traceback (most recent call last)",
      "\u001b[0;32m<ipython-input-7-fad255580594>\u001b[0m in \u001b[0;36m<module>\u001b[0;34m\u001b[0m\n\u001b[1;32m      5\u001b[0m \u001b[0ma\u001b[0m\u001b[0;34m=\u001b[0m\u001b[0;36m1000\u001b[0m\u001b[0;34m\u001b[0m\u001b[0;34m\u001b[0m\u001b[0m\n\u001b[1;32m      6\u001b[0m \u001b[0;32mif\u001b[0m \u001b[0ma\u001b[0m\u001b[0;34m>\u001b[0m\u001b[0;36m989\u001b[0m \u001b[0;34m:\u001b[0m\u001b[0;34m\u001b[0m\u001b[0;34m\u001b[0m\u001b[0m\n\u001b[0;32m----> 7\u001b[0;31m     \u001b[0;32mraise\u001b[0m \u001b[0mException\u001b[0m\u001b[0;34m(\u001b[0m\u001b[0;34m\"Maximum value should be 989\"\u001b[0m\u001b[0;34m)\u001b[0m\u001b[0;34m\u001b[0m\u001b[0;34m\u001b[0m\u001b[0m\n\u001b[0m",
      "\u001b[0;31mException\u001b[0m: Maximum value should be 989"
     ]
    }
   ],
   "source": [
    "#7.What does raise keyword is used for in python?\n",
    "\n",
    "#ans) A) It is used to raise an exception.\n",
    "\n",
    "a=1000\n",
    "if a>989 :\n",
    "    raise Exception(\"Maximum value should be 989\")"
   ]
  },
  {
   "cell_type": "code",
   "execution_count": 8,
   "id": "3bd6aa9a",
   "metadata": {},
   "outputs": [],
   "source": [
    "#8.Which of the following is a common use case of yield keyword in python?\n",
    "\n",
    "#ans) C) in defining a generator"
   ]
  },
  {
   "cell_type": "code",
   "execution_count": 9,
   "id": "db58432e",
   "metadata": {},
   "outputs": [
    {
     "data": {
      "text/plain": [
       "30"
      ]
     },
     "execution_count": 9,
     "metadata": {},
     "output_type": "execute_result"
    }
   ],
   "source": [
    "#9. Which of the following are the valid variable names?\n",
    "\n",
    "#ans) A) _abc   and    C) abc2\n",
    "_abc=10\n",
    "abc2=20\n",
    "_abc+abc2"
   ]
  },
  {
   "cell_type": "code",
   "execution_count": 10,
   "id": "2cf6e871",
   "metadata": {},
   "outputs": [],
   "source": [
    "#10. Which of the following are the keywords in python?\n",
    "\n",
    "# ans) A) yield   and    B) raise\n"
   ]
  },
  {
   "cell_type": "code",
   "execution_count": 11,
   "id": "d3afb79e",
   "metadata": {},
   "outputs": [
    {
     "name": "stdout",
     "output_type": "stream",
     "text": [
      "720\n"
     ]
    }
   ],
   "source": [
    "#11. Write a python program to find the factorial of a number?\n",
    "\n",
    "def fact(x):\n",
    "    if x==0:\n",
    "        return 1\n",
    "    else:\n",
    "        return x*fact(x-1)\n",
    "    \n",
    "print(fact(6))"
   ]
  },
  {
   "cell_type": "code",
   "execution_count": 12,
   "id": "b1a43248",
   "metadata": {},
   "outputs": [
    {
     "name": "stdout",
     "output_type": "stream",
     "text": [
      "Enter any number:25\n",
      "25 is a composite number\n"
     ]
    }
   ],
   "source": [
    "#12. Write a python program to find whether a number is prime or composite?\n",
    "\n",
    "num=int(input(\"Enter any number:\"))\n",
    "if(num<=1):\n",
    "    print(num,\"is neither prime nor composite\")\n",
    "elif num>1 :\n",
    "    for i in range(2,num):\n",
    "        if(num%i == 0):\n",
    "            print(num,\"is a composite number\")\n",
    "            break\n",
    "    else:\n",
    "        print(num,\"is a prime number\")\n",
    "else :\n",
    "    print(\"Please enter positive number only \")\n"
   ]
  },
  {
   "cell_type": "code",
   "execution_count": 13,
   "id": "991c4f9e",
   "metadata": {},
   "outputs": [
    {
     "name": "stdout",
     "output_type": "stream",
     "text": [
      "Please enter a text : malayalam\n",
      "This is a Palindrome String\n"
     ]
    }
   ],
   "source": [
    "#13. Write a python program to check whether a given string is palindrome or not?\n",
    "\n",
    "palindromestr = str(input(\"Please enter a text : \"))\n",
    "\n",
    "if(palindromestr == palindromestr[:: - 1]):\n",
    "   print(\"This is a Palindrome String\")\n",
    "else:\n",
    "   print(\"This is not a Palindrome string\")"
   ]
  },
  {
   "cell_type": "code",
   "execution_count": 14,
   "id": "626cce92",
   "metadata": {},
   "outputs": [
    {
     "name": "stdout",
     "output_type": "stream",
     "text": [
      "Enter base length:6.2\n",
      "Enter Height:12\n",
      "Hypotenuse is 13.507035203922436\n"
     ]
    }
   ],
   "source": [
    "#14. Write a Python program to get the third side of right-angled triangle from two given sides?\n",
    "import math\n",
    "a=float(input('Enter base length:'))\n",
    "b=float(input('Enter Height:'))\n",
    "c=math.sqrt(a**2 + b**2)\n",
    "\n",
    "print('Hypotenuse is',c)"
   ]
  },
  {
   "cell_type": "code",
   "execution_count": 15,
   "id": "bed31dbc",
   "metadata": {},
   "outputs": [
    {
     "name": "stdout",
     "output_type": "stream",
     "text": [
      "Enter a Word:unstoppable\n",
      "{'u': 1, 'n': 1, 's': 1, 't': 1, 'o': 1, 'p': 2, 'a': 1, 'b': 1, 'l': 1, 'e': 1}\n"
     ]
    }
   ],
   "source": [
    "#15. Write a python program to print the frequency of each of the characters present in a given string?\n",
    "\n",
    "string = str(input('Enter a Word:'))\n",
    "frq = {}\n",
    "\n",
    "for n in string:\n",
    "    dict1=frq.keys()\n",
    "    if (n in dict1):\n",
    "        frq[n]=frq[n]+1\n",
    "    else:\n",
    "        frq[n]=1\n",
    "print (frq)"
   ]
  }
 ],
 "metadata": {
  "kernelspec": {
   "display_name": "Python 3",
   "language": "python",
   "name": "python3"
  },
  "language_info": {
   "codemirror_mode": {
    "name": "ipython",
    "version": 3
   },
   "file_extension": ".py",
   "mimetype": "text/x-python",
   "name": "python",
   "nbconvert_exporter": "python",
   "pygments_lexer": "ipython3",
   "version": "3.8.8"
  }
 },
 "nbformat": 4,
 "nbformat_minor": 5
}
